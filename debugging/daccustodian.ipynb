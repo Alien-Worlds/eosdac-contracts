{
 "cells": [
  {
   "cell_type": "code",
   "execution_count": 8,
   "metadata": {},
   "outputs": [],
   "source": [
    "import json\n",
    "from datetime import datetime\n",
    "import pytz\n",
    "\n",
    "utc = pytz.UTC"
   ]
  },
  {
   "cell_type": "code",
   "execution_count": 2,
   "metadata": {},
   "outputs": [],
   "source": [
    "data = json.load(open('tables_daccustodian.json'))"
   ]
  },
  {
   "cell_type": "code",
   "execution_count": 31,
   "metadata": {},
   "outputs": [
    {
     "data": {
      "text/plain": [
       "[{'voter': 'sxhay.wam',\n",
       "  'proxy': '',\n",
       "  'candidates': ['sxhay.wam', 'yciky.c.wam'],\n",
       "  'vote_time_stamp': '2022-10-20T15:20:50',\n",
       "  'vote_count': 1}]"
      ]
     },
     "execution_count": 31,
     "metadata": {},
     "output_type": "execute_result"
    }
   ],
   "source": [
    "votes = [x for x in data['nerix']['votes'] if 'yciky.c.wam' in x['candidates']]\n",
    "votes"
   ]
  },
  {
   "cell_type": "code",
   "execution_count": 34,
   "metadata": {},
   "outputs": [
    {
     "data": {
      "text/plain": [
       "{'voter': 'sxhay.wam',\n",
       " 'proxy': '',\n",
       " 'candidates': ['sxhay.wam', 'yciky.c.wam'],\n",
       " 'vote_time_stamp': '2022-10-20T15:20:50',\n",
       " 'vote_count': 1}"
      ]
     },
     "execution_count": 34,
     "metadata": {},
     "output_type": "execute_result"
    }
   ],
   "source": [
    "vote1 = votes[0]\n",
    "# vote2 = votes[1]\n",
    "vote1 #, vote2"
   ]
  },
  {
   "cell_type": "code",
   "execution_count": 35,
   "metadata": {},
   "outputs": [
    {
     "data": {
      "text/plain": [
       "{'voter': 'sxhay.wam', 'weight': 37777, 'weight_quorum': 20000}"
      ]
     },
     "execution_count": 35,
     "metadata": {},
     "output_type": "execute_result"
    }
   ],
   "source": [
    "weight1 = [x for x in data['nerix']['weights'] if x['voter'] == vote1['voter']][0]\n",
    "# weight2 = [x for x in data['nerix']['weights'] if x['voter'] == vote2['voter']][0]\n",
    "\n",
    "weight1 #, weight2"
   ]
  },
  {
   "cell_type": "code",
   "execution_count": null,
   "metadata": {},
   "outputs": [],
   "source": [
    "def get_unix_epoch(timestring):\n",
    "    dt = datetime.strptime(timestring, '%Y-%m-%dT%H:%M:%S')\n",
    "    dt = utc.localize(dt)\n",
    "    return int(round(dt.timestamp()))"
   ]
  },
  {
   "cell_type": "code",
   "execution_count": 36,
   "metadata": {},
   "outputs": [
    {
     "data": {
      "text/plain": [
       "1666279250"
      ]
     },
     "execution_count": 36,
     "metadata": {},
     "output_type": "execute_result"
    }
   ],
   "source": [
    "vote_timestamp_1 = get_unix_epoch(vote1['vote_time_stamp'])\n",
    "# vote_timestamp_2 = get_unix_epoch(vote2['vote_time_stamp'])\n",
    "vote_timestamp_1#, vote_timestamp_2"
   ]
  },
  {
   "cell_type": "code",
   "execution_count": 40,
   "metadata": {},
   "outputs": [
    {
     "data": {
      "text/plain": [
       "1666279250"
      ]
     },
     "execution_count": 40,
     "metadata": {},
     "output_type": "execute_result"
    }
   ],
   "source": [
    "expected_running_weight = weight1['weight'] * vote_timestamp_1# + weight2['weight'] * vote_timestamp_2\n",
    "expected_running_weight - 62945364948000"
   ]
  }
 ],
 "metadata": {
  "kernelspec": {
   "display_name": "Python 3",
   "language": "python",
   "name": "python3"
  },
  "language_info": {
   "codemirror_mode": {
    "name": "ipython",
    "version": 3
   },
   "file_extension": ".py",
   "mimetype": "text/x-python",
   "name": "python",
   "nbconvert_exporter": "python",
   "pygments_lexer": "ipython3",
   "version": "3.11.1"
  },
  "orig_nbformat": 4,
  "vscode": {
   "interpreter": {
    "hash": "49b12ed92f108f1828c3129447e350bdd3f4377f03e7357e352d8fa4dd9f6068"
   }
  }
 },
 "nbformat": 4,
 "nbformat_minor": 2
}
